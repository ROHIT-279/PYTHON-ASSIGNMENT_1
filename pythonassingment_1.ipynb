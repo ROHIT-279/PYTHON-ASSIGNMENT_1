{
 "cells": [
  {
   "cell_type": "code",
   "execution_count": 1,
   "id": "f02cd4bc-4331-4d77-b82d-124008d4e856",
   "metadata": {},
   "outputs": [],
   "source": [
    "##Q1. Explian with an example each when to use a for loop and a while loop. "
   ]
  },
  {
   "cell_type": "code",
   "execution_count": 2,
   "id": "954ca423-be8a-45e2-9060-2349f55af98c",
   "metadata": {},
   "outputs": [
    {
     "data": {
      "text/plain": [
       "30"
      ]
     },
     "execution_count": 2,
     "metadata": {},
     "output_type": "execute_result"
    }
   ],
   "source": [
    "##FOR Loop\n",
    "result = 0\n",
    "L1 = [2,3,4,6,7,8]\n",
    "for i in L1:\n",
    "    result = result + i\n",
    "result    "
   ]
  },
  {
   "cell_type": "code",
   "execution_count": 3,
   "id": "32ef5ba2-5970-4da3-9a91-d4dc2758603b",
   "metadata": {},
   "outputs": [
    {
     "data": {
      "text/plain": [
       "30"
      ]
     },
     "execution_count": 3,
     "metadata": {},
     "output_type": "execute_result"
    }
   ],
   "source": [
    "sum(L1)"
   ]
  },
  {
   "cell_type": "code",
   "execution_count": 5,
   "id": "c253061c-d447-4f98-b16c-064e0f0048ad",
   "metadata": {},
   "outputs": [
    {
     "name": "stdin",
     "output_type": "stream",
     "text": [
      "PLEASE ENTER THE PASSWOR(MUST BE 8 CHARACTERS LONG) :  425985652663\n"
     ]
    },
    {
     "name": "stdout",
     "output_type": "stream",
     "text": [
      "YOUR PASSWORD IS : 425985652663\n"
     ]
    }
   ],
   "source": [
    "#While LOOP\n",
    "Password = \"\"\n",
    "while True :\n",
    "    Password = input(\"PLEASE ENTER THE PASSWOR(MUST BE 8 CHARACTERS LONG) : \")\n",
    "    if len(Password)>= 8 :\n",
    "        break\n",
    "print(\"YOUR PASSWORD IS :\" ,Password)"
   ]
  },
  {
   "cell_type": "code",
   "execution_count": 6,
   "id": "7f1eb254-b74c-4608-8036-27a611756ebe",
   "metadata": {},
   "outputs": [],
   "source": [
    "##Q3.Write a python program to print the sum and product of the first 10 natural numbers using for and while loop"
   ]
  },
  {
   "cell_type": "code",
   "execution_count": 1,
   "id": "0c7d5f8d-8f1d-437e-840b-c42e61b268ca",
   "metadata": {},
   "outputs": [
    {
     "name": "stdout",
     "output_type": "stream",
     "text": [
      "THE PRODUCT OF 10 NATURAL NUMBER IS : 55\n",
      "THE PRODUCT OF 10 NATURAL NUMBER IS : 3628800\n"
     ]
    }
   ],
   "source": [
    "#for loop sum\n",
    "SUM = 0\n",
    "for i in range(1,11):\n",
    "    SUM += i\n",
    "print(\"THE PRODUCT OF 10 NATURAL NUMBER IS :\",SUM)     \n",
    "#for loop product\n",
    "PRODUCT = 1\n",
    "for i in range(1,11):\n",
    "    PRODUCT *= i\n",
    "print(\"THE PRODUCT OF 10 NATURAL NUMBER IS :\",PRODUCT)   "
   ]
  },
  {
   "cell_type": "code",
   "execution_count": 2,
   "id": "adaaf787-2e7b-4b08-b7e9-c450edcb13db",
   "metadata": {},
   "outputs": [
    {
     "name": "stdout",
     "output_type": "stream",
     "text": [
      "THE SUM OF 10 NATURAL NUMBER IS : 55\n",
      "THE PRODUCT OF 10 NATURAL NUMBER IS : 3628800\n"
     ]
    }
   ],
   "source": [
    "#whie loop sum\n",
    "SUM = 0\n",
    "i = 1\n",
    "while i<= 10:\n",
    "    SUM+=i\n",
    "    i+=1\n",
    "print(\"THE SUM OF 10 NATURAL NUMBER IS :\",SUM) \n",
    "#while LOOp product\n",
    "PRODUCT= 1\n",
    "i = 1\n",
    "while i<= 10:\n",
    "    PRODUCT *=i\n",
    "    i+=1\n",
    "print(\"THE PRODUCT OF 10 NATURAL NUMBER IS :\",PRODUCT) "
   ]
  },
  {
   "cell_type": "code",
   "execution_count": 3,
   "id": "2fe9b978-4049-49b1-a163-94a7dcddb972",
   "metadata": {},
   "outputs": [],
   "source": [
    "# Q4.Electricity bill"
   ]
  },
  {
   "cell_type": "code",
   "execution_count": 16,
   "id": "7cd22e4c-4faf-4cfb-9f91-c80b675a2b15",
   "metadata": {},
   "outputs": [
    {
     "name": "stdin",
     "output_type": "stream",
     "text": [
      "Enter units of electricity consumed:  200\n"
     ]
    },
    {
     "name": "stdout",
     "output_type": "stream",
     "text": [
      "YOUR ELETRICITY BILL IS : 1050.0\n"
     ]
    }
   ],
   "source": [
    "units = int(input(\"Enter units of electricity consumed: \"))\n",
    "if units<=100 :\n",
    "    units = units*4.5\n",
    "elif units<=200 :\n",
    "    units = 100*4.5+(units-100)*6\n",
    "elif units<=300 :\n",
    "    units = 100*4.5 + 100*6 +(units-200)*10\n",
    "else :\n",
    "    units=100*4.5+ 100*6 +1400*10+(units-300)*20\n",
    "print(\"YOUR ELETRICITY BILL IS :\",units)"
   ]
  },
  {
   "cell_type": "code",
   "execution_count": 17,
   "id": "bb1cdcf8-80db-4e6a-a8d6-62707be64e18",
   "metadata": {},
   "outputs": [],
   "source": [
    "# Q4. FIND VOWEL"
   ]
  },
  {
   "cell_type": "code",
   "execution_count": 18,
   "id": "c0c36cbe-9ef0-4179-8246-3e3110afcfd4",
   "metadata": {},
   "outputs": [
    {
     "name": "stdout",
     "output_type": "stream",
     "text": [
      "THE NUMBER OF VOWELS ARE : 12\n"
     ]
    }
   ],
   "source": [
    "STRING = \"I WANT TO BECOME A DATA SCIENTEST\"\n",
    "STRING= STRING.lower()\n",
    "VOWEL = ['a', 'e' , 'i' , 'o', 'u']\n",
    "count = 0\n",
    "for i in STRING:\n",
    "    if i in VOWEL:\n",
    "        count += 1\n",
    "print(\"THE NUMBER OF VOWELS ARE :\",  count)        "
   ]
  },
  {
   "cell_type": "code",
   "execution_count": 22,
   "id": "0d846a1f-6cee-4e0c-9786-1f89fd602405",
   "metadata": {},
   "outputs": [
    {
     "name": "stdout",
     "output_type": "stream",
     "text": [
      ".........THANK YOU SIR FOR GIVING ME THESE ASSIGNMENTS , HERE I LEARN  MANY THINGS THROUGH PROBLEM SOLVING...........\n"
     ]
    }
   ],
   "source": [
    "print( \".........THANK YOU SIR FOR GIVING ME THESE ASSIGNMENTS , HERE I LEARN  MANY THINGS THROUGH PROBLEM SOLVING...........\")"
   ]
  },
  {
   "cell_type": "code",
   "execution_count": null,
   "id": "5d41eb91-e7b7-491a-825a-0a20ab387134",
   "metadata": {},
   "outputs": [],
   "source": []
  }
 ],
 "metadata": {
  "kernelspec": {
   "display_name": "Python 3 (ipykernel)",
   "language": "python",
   "name": "python3"
  },
  "language_info": {
   "codemirror_mode": {
    "name": "ipython",
    "version": 3
   },
   "file_extension": ".py",
   "mimetype": "text/x-python",
   "name": "python",
   "nbconvert_exporter": "python",
   "pygments_lexer": "ipython3",
   "version": "3.10.8"
  }
 },
 "nbformat": 4,
 "nbformat_minor": 5
}
